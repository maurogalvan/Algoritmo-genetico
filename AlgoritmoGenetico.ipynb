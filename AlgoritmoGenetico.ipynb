{
  "nbformat": 4,
  "nbformat_minor": 0,
  "metadata": {
    "colab": {
      "name": "AlgoritmoGenetico.ipynb",
      "provenance": [],
      "collapsed_sections": []
    },
    "kernelspec": {
      "name": "python3",
      "display_name": "Python 3"
    },
    "language_info": {
      "name": "python"
    }
  },
  "cells": [
    {
      "cell_type": "markdown",
      "metadata": {
        "id": "j1VMs3VPhLjb"
      },
      "source": [
        "**Intento de algoritmo genetico**"
      ]
    },
    {
      "cell_type": "markdown",
      "metadata": {
        "id": "NM0DThkdSKTm"
      },
      "source": [
        "El objetivo es encontrar jugadores que tengan un promedio de todas sus habilidades en 7\n",
        "Estos campos son:\n",
        "\n",
        "*   Juego ofensivo.\n",
        "*   Juego defensivo.\n",
        "*   Juego aéreo.\n",
        "*   Habilidad.\n",
        "*   Velocidad.\n",
        "\n",
        "El director por ejemplo quiere que todos los jugadores de su campo tengan como caracteristica 7 en cada una de sus habilidades, por ende determine el **objetivo**."
      ]
    },
    {
      "cell_type": "code",
      "metadata": {
        "colab": {
          "base_uri": "https://localhost:8080/"
        },
        "id": "9rgCCsWORiVj",
        "outputId": "249ca861-3c14-4bb9-b3b0-dc1f5161741d"
      },
      "source": [
        "import random\n",
        "\n",
        "objetivo = [7,7,7,7,7] #Objetivo a alcanzar\n",
        "largoMaterialGenetico = 5\n",
        "cantidadIndividuos = 11 #Cantidad de individuos que habra en la poblacion en este caso los 11 titulares\n",
        "pressure = 3 #cantidad individuos q se seleccionan para la reproduccion, deben ser mas de 2\n",
        "chanceMutacion = 0.2 #probabilidad de que un individuo mute\n",
        "\n",
        "print(\"Modelo: %s\"%(objetivo))\n"
      ],
      "execution_count": null,
      "outputs": [
        {
          "output_type": "stream",
          "text": [
            "Modelo: [7, 7, 7, 7, 7]\n"
          ],
          "name": "stdout"
        }
      ]
    },
    {
      "cell_type": "markdown",
      "metadata": {
        "id": "lI7sAVuIUR-Z"
      },
      "source": [
        "Ahora vamos a crear tres funciones basicas, la primera sera para crear un individuo que despues sera guardado en una matriz lamada **poblacion**."
      ]
    },
    {
      "cell_type": "code",
      "metadata": {
        "colab": {
          "base_uri": "https://localhost:8080/"
        },
        "id": "McAXn2XXSDJ_",
        "outputId": "c2d38dd3-b8b1-4579-f67b-856f2f07bb1e"
      },
      "source": [
        "def individual (min, max):\n",
        "  \"\"\"\n",
        "  Esta funcion recibe dos numeros enteros y se llena una lista.\n",
        "  \"\"\"\n",
        "  return [random.randint(min,max) for i in range(largoMaterialGenetico)]\n",
        "individual(1,10)"
      ],
      "execution_count": null,
      "outputs": [
        {
          "output_type": "execute_result",
          "data": {
            "text/plain": [
              "[2, 2, 8, 7, 10]"
            ]
          },
          "metadata": {
            "tags": []
          },
          "execution_count": 185
        }
      ]
    },
    {
      "cell_type": "markdown",
      "metadata": {
        "id": "EZRZXPqlUotv"
      },
      "source": [
        "La siguiente funcion vamos a crear la poblacion"
      ]
    },
    {
      "cell_type": "code",
      "metadata": {
        "colab": {
          "base_uri": "https://localhost:8080/"
        },
        "id": "4un9ECQcU9Yh",
        "outputId": "0751853f-6ba7-41b5-9771-036b18a03f34"
      },
      "source": [
        "def crearPoblacion ():\n",
        "  return [individual(1,10) for i in range(cantidadIndividuos)]\n",
        "crearPoblacion()"
      ],
      "execution_count": null,
      "outputs": [
        {
          "output_type": "execute_result",
          "data": {
            "text/plain": [
              "[[4, 2, 9, 8, 10],\n",
              " [8, 7, 9, 7, 6],\n",
              " [2, 4, 7, 7, 6],\n",
              " [10, 4, 8, 8, 1],\n",
              " [10, 2, 9, 1, 5],\n",
              " [2, 10, 10, 7, 8],\n",
              " [4, 8, 4, 3, 7],\n",
              " [6, 8, 2, 2, 9],\n",
              " [8, 5, 9, 10, 5],\n",
              " [6, 8, 7, 2, 1],\n",
              " [2, 8, 8, 4, 5]]"
            ]
          },
          "metadata": {
            "tags": []
          },
          "execution_count": 186
        }
      ]
    },
    {
      "cell_type": "markdown",
      "metadata": {
        "id": "rei0bKjpVeQr"
      },
      "source": [
        "Ahora la tercera funcion es la **funcion fitness.** Basicamente es si cada valor es igual a 7 o +-1 al director tecnico le sirve."
      ]
    },
    {
      "cell_type": "code",
      "metadata": {
        "id": "KtUbW1meVly-"
      },
      "source": [
        "def calcularFitness(individual):\n",
        "  fitness = 0\n",
        "  for i in range(len(individual)):\n",
        "    if individual[i] == objetivo[i] or individual[i] > objetivo[i] :\n",
        "      fitness += 1\n",
        "  return fitness\n"
      ],
      "execution_count": null,
      "outputs": []
    },
    {
      "cell_type": "markdown",
      "metadata": {
        "id": "8Jp1Yuk8Wur7"
      },
      "source": [
        "Bien, ahora ya tenemos hecha la inicializacion, por ende ahora nos faltaria que se reproduzcan y muten, por ende hacemos la evaluacion, seleccion y la mezcla del material genetico, para asi poder crear una nueva poblacion."
      ]
    },
    {
      "cell_type": "code",
      "metadata": {
        "id": "7y7R5sS6XB3e"
      },
      "source": [
        "def seleccionReproduccion(poblacion):\n",
        "  \"\"\"\n",
        "  Va a puntuar a los elementos de la poblacion y se va a quedar con los mejores, y los guardara dentro de 'seleccion'\n",
        "  \"\"\"\n",
        "  puntuados = [(calcularFitness(i), i) for i in poblacion] #Esto calcula el fitness de cada individuo y lo guarda en puntuados\n",
        "  puntuados = [i[1] for i in sorted(puntuados)] #Ordena los pares ordenados, y se queda solo con los valores ya que arriba los guardabamos de a pares.\n",
        "  poblacion = puntuados\n",
        " \n",
        "  #La siguiente funcion selecciona los n individuos del final, donde n viene dado por el pressure\n",
        "  seleccionados = puntuados [(len(puntuados)-pressure):] \n",
        "\n",
        "  #procedo a mezclar el material genetico para crear nuevos individuos\n",
        "  for i in range(len(poblacion)-pressure):\n",
        "    punto = random.randint(1, largoMaterialGenetico-1)\n",
        "    padre = random.sample(seleccionados, 2)\n",
        "\n",
        "    poblacion[i][:punto] = padre[0][:punto]\n",
        "    poblacion[i][punto:] = padre[1][punto:]\n",
        "\n",
        "  return poblacion"
      ],
      "execution_count": null,
      "outputs": []
    },
    {
      "cell_type": "code",
      "metadata": {
        "id": "cXEo54V1bxu_"
      },
      "source": [
        "def mutation (poblacion):\n",
        "\n",
        "  for i in range(len(poblacion)):\n",
        "    if random.random() <= chanceMutacion:\n",
        "      punto = random.randint(0, largoMaterialGenetico-1)\n",
        "      nuevo_valor = random.randint(1,9)\n",
        "\n",
        "      while nuevo_valor == population[i][punto]:\n",
        "        nuevo_valor = random.randint(1,9)\n",
        "      population[i][punto] = nuevo_valor\n",
        "  return poblacion"
      ],
      "execution_count": null,
      "outputs": []
    },
    {
      "cell_type": "markdown",
      "metadata": {
        "id": "5G_kah6gLG1E"
      },
      "source": [
        "Ahora creamos una poblacion y la guardamos en un arreglo"
      ]
    },
    {
      "cell_type": "code",
      "metadata": {
        "colab": {
          "base_uri": "https://localhost:8080/"
        },
        "id": "dnVnsITTdDXY",
        "outputId": "86185edb-5f8f-4da1-be85-5d129cb72bbb"
      },
      "source": [
        "population = crearPoblacion() #Inicializar una poblacion\n",
        "print(\"poblacion inicial:\\n%s\"%(population)) #Se muestra la poblacion inicial"
      ],
      "execution_count": null,
      "outputs": [
        {
          "output_type": "stream",
          "text": [
            "poblacion inicial:\n",
            "[[3, 6, 1, 2, 9], [10, 1, 4, 6, 5], [10, 5, 4, 6, 3], [10, 8, 5, 1, 9], [2, 1, 6, 7, 4], [9, 1, 3, 10, 5], [9, 8, 8, 6, 9], [2, 5, 2, 4, 4], [9, 5, 4, 7, 2], [2, 2, 6, 3, 5], [3, 4, 5, 3, 9]]\n"
          ],
          "name": "stdout"
        }
      ]
    },
    {
      "cell_type": "markdown",
      "metadata": {
        "id": "oRPu2ZDILMp4"
      },
      "source": [
        "Ahora planteamos la evolucion de la poblacion y llegamos a la poblacion que mejor se acondiciona a la funcion fitness"
      ]
    },
    {
      "cell_type": "code",
      "metadata": {
        "colab": {
          "base_uri": "https://localhost:8080/"
        },
        "id": "mV-sAssZdTov",
        "outputId": "97c3988b-2501-4966-ab22-14d987329140"
      },
      "source": [
        "#se evoluciona la poblacion\n",
        "for i in range(15):\n",
        "  population = seleccionReproduccion(population)\n",
        "  population = mutation(population)\n",
        "\n",
        "print(\"\\nPoblacion Final:\\n%s\\n\"%(population)) #Se muestra la poblacion evolucionada\n"
      ],
      "execution_count": null,
      "outputs": [
        {
          "output_type": "stream",
          "text": [
            "\n",
            "Poblacion Final:\n",
            "[[10, 4, 8, 8, 9], [10, 9, 8, 8, 9], [10, 2, 8, 8, 9], [10, 9, 8, 8, 9], [10, 9, 8, 8, 6], [10, 9, 8, 8, 9], [10, 9, 8, 8, 9], [10, 9, 8, 8, 9], [10, 9, 8, 8, 9], [10, 9, 8, 8, 9], [10, 9, 8, 8, 9]]\n",
            "\n"
          ],
          "name": "stdout"
        }
      ]
    }
  ]
}